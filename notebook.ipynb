{
 "cells": [
  {
   "cell_type": "code",
   "execution_count": 1,
   "metadata": {},
   "outputs": [],
   "source": [
    "import pandas as pd\n",
    "import matplotlib.pyplot as plt\n",
    "from rdkit.Chem import PandasTools"
   ]
  },
  {
   "cell_type": "markdown",
   "metadata": {},
   "source": [
    "Загрузим данные"
   ]
  },
  {
   "cell_type": "code",
   "execution_count": 2,
   "metadata": {},
   "outputs": [
    {
     "data": {
      "text/html": [
       "<div>\n",
       "<style scoped>\n",
       "    .dataframe tbody tr th:only-of-type {\n",
       "        vertical-align: middle;\n",
       "    }\n",
       "\n",
       "    .dataframe tbody tr th {\n",
       "        vertical-align: top;\n",
       "    }\n",
       "\n",
       "    .dataframe thead th {\n",
       "        text-align: right;\n",
       "    }\n",
       "</style>\n",
       "<table border=\"1\" class=\"dataframe\">\n",
       "  <thead>\n",
       "    <tr style=\"text-align: right;\">\n",
       "      <th></th>\n",
       "      <th>iupac</th>\n",
       "      <th>smiles</th>\n",
       "      <th>expt</th>\n",
       "      <th>calc</th>\n",
       "    </tr>\n",
       "  </thead>\n",
       "  <tbody>\n",
       "    <tr>\n",
       "      <th>0</th>\n",
       "      <td>4-methoxy-N,N-dimethyl-benzamide</td>\n",
       "      <td>CN(C)C(=O)c1ccc(cc1)OC</td>\n",
       "      <td>-11.01</td>\n",
       "      <td>-9.625</td>\n",
       "    </tr>\n",
       "    <tr>\n",
       "      <th>1</th>\n",
       "      <td>methanesulfonyl chloride</td>\n",
       "      <td>CS(=O)(=O)Cl</td>\n",
       "      <td>-4.87</td>\n",
       "      <td>-6.219</td>\n",
       "    </tr>\n",
       "    <tr>\n",
       "      <th>2</th>\n",
       "      <td>3-methylbut-1-ene</td>\n",
       "      <td>CC(C)C=C</td>\n",
       "      <td>1.83</td>\n",
       "      <td>2.452</td>\n",
       "    </tr>\n",
       "    <tr>\n",
       "      <th>3</th>\n",
       "      <td>2-ethylpyrazine</td>\n",
       "      <td>CCc1cnccn1</td>\n",
       "      <td>-5.45</td>\n",
       "      <td>-5.809</td>\n",
       "    </tr>\n",
       "    <tr>\n",
       "      <th>4</th>\n",
       "      <td>heptan-1-ol</td>\n",
       "      <td>CCCCCCCO</td>\n",
       "      <td>-4.21</td>\n",
       "      <td>-2.917</td>\n",
       "    </tr>\n",
       "  </tbody>\n",
       "</table>\n",
       "</div>"
      ],
      "text/plain": [
       "                              iupac                  smiles   expt   calc\n",
       "0  4-methoxy-N,N-dimethyl-benzamide  CN(C)C(=O)c1ccc(cc1)OC -11.01 -9.625\n",
       "1          methanesulfonyl chloride            CS(=O)(=O)Cl  -4.87 -6.219\n",
       "2                 3-methylbut-1-ene                CC(C)C=C   1.83  2.452\n",
       "3                   2-ethylpyrazine              CCc1cnccn1  -5.45 -5.809\n",
       "4                       heptan-1-ol                CCCCCCCO  -4.21 -2.917"
      ]
     },
     "execution_count": 2,
     "metadata": {},
     "output_type": "execute_result"
    }
   ],
   "source": [
    "df = pd.read_csv(\"SAMPL.csv\")\n",
    "df.head()"
   ]
  },
  {
   "cell_type": "markdown",
   "metadata": {},
   "source": [
    "Прочитаем SMILES"
   ]
  },
  {
   "cell_type": "code",
   "execution_count": 3,
   "metadata": {},
   "outputs": [
    {
     "data": {
      "text/html": [
       "<div>\n",
       "<style scoped>\n",
       "    .dataframe tbody tr th:only-of-type {\n",
       "        vertical-align: middle;\n",
       "    }\n",
       "\n",
       "    .dataframe tbody tr th {\n",
       "        vertical-align: top;\n",
       "    }\n",
       "\n",
       "    .dataframe thead th {\n",
       "        text-align: right;\n",
       "    }\n",
       "</style>\n",
       "<table border=\"1\" class=\"dataframe\">\n",
       "  <thead>\n",
       "    <tr style=\"text-align: right;\">\n",
       "      <th></th>\n",
       "      <th>smiles</th>\n",
       "      <th>Molecule</th>\n",
       "    </tr>\n",
       "  </thead>\n",
       "  <tbody>\n",
       "    <tr>\n",
       "      <th>0</th>\n",
       "      <td>CN(C)C(=O)c1ccc(cc1)OC</td>\n",
       "      <td><img data-content=\"rdkit/molecule\" src=\"data:image/png;base64,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\" alt=\"Mol\"/></td>\n",
       "    </tr>\n",
       "  </tbody>\n",
       "</table>\n",
       "</div>"
      ],
      "text/plain": [
       "                   smiles                                           Molecule\n",
       "0  CN(C)C(=O)c1ccc(cc1)OC  <img data-content=\"rdkit/molecule\" src=\"data:i..."
      ]
     },
     "execution_count": 3,
     "metadata": {},
     "output_type": "execute_result"
    }
   ],
   "source": [
    "PandasTools.AddMoleculeColumnToFrame(df, \"smiles\", \"Molecule\")\n",
    "df[[\"smiles\", \"Molecule\"]].head(1)"
   ]
  },
  {
   "cell_type": "markdown",
   "metadata": {},
   "source": [
    "Приведем к формату для pytorch-geometric."
   ]
  },
  {
   "cell_type": "code",
   "execution_count": 4,
   "metadata": {},
   "outputs": [],
   "source": [
    "from engine.utils import rdkit_to_pyg\n",
    "\n",
    "PandasTools.AddMoleculeColumnToFrame(df, \"smiles\", \"Molecule\")\n",
    "data = [rdkit_to_pyg(mol, expt) for mol, expt in df[[\"Molecule\", \"expt\"]].values]"
   ]
  },
  {
   "cell_type": "markdown",
   "metadata": {},
   "source": [
    "Создадим модель. Возьмем для начала размерность 8 для эмбеддингов и 16 для скрытых фич. По умолчанию стоит 2 сверточных слоя."
   ]
  },
  {
   "cell_type": "code",
   "execution_count": 5,
   "metadata": {},
   "outputs": [],
   "source": [
    "from engine.model import GCN\n",
    "\n",
    "model = GCN(8,8,16,1)"
   ]
  },
  {
   "cell_type": "markdown",
   "metadata": {},
   "source": [
    "Обучим. "
   ]
  },
  {
   "cell_type": "code",
   "execution_count": 6,
   "metadata": {},
   "outputs": [
    {
     "name": "stderr",
     "output_type": "stream",
     "text": [
      "GPU available: True, used: True\n",
      "TPU available: False, using: 0 TPU cores\n",
      "IPU available: False, using: 0 IPUs\n",
      "LOCAL_RANK: 0 - CUDA_VISIBLE_DEVICES: [0]\n",
      "\n",
      "  | Name  | Type | Params\n",
      "-------------------------------\n",
      "0 | model | GCN  | 2.4 K \n",
      "-------------------------------\n",
      "2.4 K     Trainable params\n",
      "0         Non-trainable params\n",
      "2.4 K     Total params\n",
      "0.010     Total estimated model params size (MB)\n"
     ]
    },
    {
     "name": "stdout",
     "output_type": "stream",
     "text": [
      "                                                              "
     ]
    },
    {
     "name": "stderr",
     "output_type": "stream",
     "text": [
      "/home/dumtrii/Documents/practos/spring3/bio/venv/lib/python3.9/site-packages/pytorch_lightning/trainer/data_loading.py:132: UserWarning: The dataloader, val_dataloader 0, does not have many workers which may be a bottleneck. Consider increasing the value of the `num_workers` argument` (try 12 which is the number of cpus on this machine) in the `DataLoader` init to improve performance.\n",
      "  rank_zero_warn(\n",
      "/home/dumtrii/Documents/practos/spring3/bio/venv/lib/python3.9/site-packages/pytorch_lightning/trainer/data_loading.py:132: UserWarning: The dataloader, train_dataloader, does not have many workers which may be a bottleneck. Consider increasing the value of the `num_workers` argument` (try 12 which is the number of cpus on this machine) in the `DataLoader` init to improve performance.\n",
      "  rank_zero_warn(\n",
      "/home/dumtrii/Documents/practos/spring3/bio/venv/lib/python3.9/site-packages/pytorch_lightning/trainer/data_loading.py:432: UserWarning: The number of training samples (19) is smaller than the logging interval Trainer(log_every_n_steps=50). Set a lower value for log_every_n_steps if you want to see logs for the training epoch.\n",
      "  rank_zero_warn(\n"
     ]
    },
    {
     "name": "stdout",
     "output_type": "stream",
     "text": [
      "Epoch 999: 100%|██████████| 22/22 [00:00<00:00, 148.33it/s, loss=1.72, v_num=53]\n"
     ]
    }
   ],
   "source": [
    "from train import train_network\n",
    "\n",
    "training_module = train_network(model, data)"
   ]
  },
  {
   "cell_type": "code",
   "execution_count": 7,
   "metadata": {},
   "outputs": [],
   "source": [
    "def print_best_metrics(metrics):\n",
    "    print(f\"Финальные тестовые метрики: {min(metrics, key=lambda x: x['MSE'])}\")\n",
    "    print(f\"С лучшим R2: {max(metrics, key=lambda x: x['R2'])}\")"
   ]
  },
  {
   "cell_type": "code",
   "execution_count": 8,
   "metadata": {},
   "outputs": [
    {
     "name": "stdout",
     "output_type": "stream",
     "text": [
      "Финальные тестовые метрики: {'MSE': 2.9513571990094336, 'R2': 0.7720388530681129}\n",
      "С лучшим R2: {'MSE': 2.9513571990094336, 'R2': 0.7720388530681129}\n"
     ]
    }
   ],
   "source": [
    "print_best_metrics(training_module.validation_metrics)"
   ]
  },
  {
   "cell_type": "markdown",
   "metadata": {},
   "source": [
    "Попробуем другие параметры."
   ]
  },
  {
   "cell_type": "code",
   "execution_count": 9,
   "metadata": {},
   "outputs": [
    {
     "name": "stderr",
     "output_type": "stream",
     "text": [
      "GPU available: True, used: True\n",
      "TPU available: False, using: 0 TPU cores\n",
      "IPU available: False, using: 0 IPUs\n",
      "LOCAL_RANK: 0 - CUDA_VISIBLE_DEVICES: [0]\n",
      "\n",
      "  | Name  | Type | Params\n",
      "-------------------------------\n",
      "0 | model | GCN  | 3.9 K \n",
      "-------------------------------\n",
      "3.9 K     Trainable params\n",
      "0         Non-trainable params\n",
      "3.9 K     Total params\n",
      "0.016     Total estimated model params size (MB)\n"
     ]
    },
    {
     "name": "stdout",
     "output_type": "stream",
     "text": []
    },
    {
     "name": "stderr",
     "output_type": "stream",
     "text": [
      "/home/dumtrii/Documents/practos/spring3/bio/venv/lib/python3.9/site-packages/pytorch_lightning/trainer/data_loading.py:132: UserWarning: The dataloader, val_dataloader 0, does not have many workers which may be a bottleneck. Consider increasing the value of the `num_workers` argument` (try 12 which is the number of cpus on this machine) in the `DataLoader` init to improve performance.\n",
      "  rank_zero_warn(\n",
      "/home/dumtrii/Documents/practos/spring3/bio/venv/lib/python3.9/site-packages/pytorch_lightning/trainer/data_loading.py:132: UserWarning: The dataloader, train_dataloader, does not have many workers which may be a bottleneck. Consider increasing the value of the `num_workers` argument` (try 12 which is the number of cpus on this machine) in the `DataLoader` init to improve performance.\n",
      "  rank_zero_warn(\n",
      "/home/dumtrii/Documents/practos/spring3/bio/venv/lib/python3.9/site-packages/pytorch_lightning/trainer/data_loading.py:432: UserWarning: The number of training samples (19) is smaller than the logging interval Trainer(log_every_n_steps=50). Set a lower value for log_every_n_steps if you want to see logs for the training epoch.\n",
      "  rank_zero_warn(\n"
     ]
    },
    {
     "name": "stdout",
     "output_type": "stream",
     "text": [
      "Epoch 999: 100%|██████████| 22/22 [00:00<00:00, 163.41it/s, loss=1.4, v_num=54]\n",
      "Финальные тестовые метрики: {'MSE': 1.7718639740159319, 'R2': 0.8441130000195272}\n",
      "С лучшим R2: {'MSE': 1.7718639740159319, 'R2': 0.8441130000195272}\n"
     ]
    }
   ],
   "source": [
    "# Больше внтуренних фичей\n",
    "\n",
    "model = GCN(8,8,32,1)\n",
    "training_module = train_network(model, data)\n",
    "print_best_metrics(training_module.validation_metrics)"
   ]
  },
  {
   "cell_type": "code",
   "execution_count": 10,
   "metadata": {},
   "outputs": [
    {
     "name": "stderr",
     "output_type": "stream",
     "text": [
      "GPU available: True, used: True\n",
      "TPU available: False, using: 0 TPU cores\n",
      "IPU available: False, using: 0 IPUs\n",
      "LOCAL_RANK: 0 - CUDA_VISIBLE_DEVICES: [0]\n",
      "\n",
      "  | Name  | Type | Params\n",
      "-------------------------------\n",
      "0 | model | GCN  | 7.6 K \n",
      "-------------------------------\n",
      "7.6 K     Trainable params\n",
      "0         Non-trainable params\n",
      "7.6 K     Total params\n",
      "0.030     Total estimated model params size (MB)\n"
     ]
    },
    {
     "name": "stdout",
     "output_type": "stream",
     "text": []
    },
    {
     "name": "stderr",
     "output_type": "stream",
     "text": [
      "/home/dumtrii/Documents/practos/spring3/bio/venv/lib/python3.9/site-packages/pytorch_lightning/trainer/data_loading.py:132: UserWarning: The dataloader, val_dataloader 0, does not have many workers which may be a bottleneck. Consider increasing the value of the `num_workers` argument` (try 12 which is the number of cpus on this machine) in the `DataLoader` init to improve performance.\n",
      "  rank_zero_warn(\n",
      "/home/dumtrii/Documents/practos/spring3/bio/venv/lib/python3.9/site-packages/pytorch_lightning/trainer/data_loading.py:132: UserWarning: The dataloader, train_dataloader, does not have many workers which may be a bottleneck. Consider increasing the value of the `num_workers` argument` (try 12 which is the number of cpus on this machine) in the `DataLoader` init to improve performance.\n",
      "  rank_zero_warn(\n",
      "/home/dumtrii/Documents/practos/spring3/bio/venv/lib/python3.9/site-packages/pytorch_lightning/trainer/data_loading.py:432: UserWarning: The number of training samples (19) is smaller than the logging interval Trainer(log_every_n_steps=50). Set a lower value for log_every_n_steps if you want to see logs for the training epoch.\n",
      "  rank_zero_warn(\n"
     ]
    },
    {
     "name": "stdout",
     "output_type": "stream",
     "text": [
      "Epoch 999: 100%|██████████| 22/22 [00:00<00:00, 135.02it/s, loss=0.419, v_num=55]\n",
      "Финальные тестовые метрики: {'MSE': 1.4961933869588668, 'R2': 0.9161689502666052}\n",
      "С лучшим R2: {'MSE': 1.4961933869588668, 'R2': 0.9161689502666052}\n"
     ]
    }
   ],
   "source": [
    "# Добавим скрытых слоев\n",
    "\n",
    "model = GCN(8,8,16,1, n_inner_layers=2)\n",
    "training_module = train_network(model, data)\n",
    "print_best_metrics(training_module.validation_metrics)"
   ]
  },
  {
   "cell_type": "code",
   "execution_count": 11,
   "metadata": {},
   "outputs": [
    {
     "name": "stderr",
     "output_type": "stream",
     "text": [
      "GPU available: True, used: True\n",
      "TPU available: False, using: 0 TPU cores\n",
      "IPU available: False, using: 0 IPUs\n",
      "LOCAL_RANK: 0 - CUDA_VISIBLE_DEVICES: [0]\n",
      "\n",
      "  | Name  | Type | Params\n",
      "-------------------------------\n",
      "0 | model | GCN  | 24.4 K\n",
      "-------------------------------\n",
      "24.4 K    Trainable params\n",
      "0         Non-trainable params\n",
      "24.4 K    Total params\n",
      "0.098     Total estimated model params size (MB)\n"
     ]
    },
    {
     "name": "stdout",
     "output_type": "stream",
     "text": [
      "                                                              "
     ]
    },
    {
     "name": "stderr",
     "output_type": "stream",
     "text": [
      "/home/dumtrii/Documents/practos/spring3/bio/venv/lib/python3.9/site-packages/pytorch_lightning/trainer/data_loading.py:132: UserWarning: The dataloader, val_dataloader 0, does not have many workers which may be a bottleneck. Consider increasing the value of the `num_workers` argument` (try 12 which is the number of cpus on this machine) in the `DataLoader` init to improve performance.\n",
      "  rank_zero_warn(\n",
      "/home/dumtrii/Documents/practos/spring3/bio/venv/lib/python3.9/site-packages/pytorch_lightning/trainer/data_loading.py:132: UserWarning: The dataloader, train_dataloader, does not have many workers which may be a bottleneck. Consider increasing the value of the `num_workers` argument` (try 12 which is the number of cpus on this machine) in the `DataLoader` init to improve performance.\n",
      "  rank_zero_warn(\n",
      "/home/dumtrii/Documents/practos/spring3/bio/venv/lib/python3.9/site-packages/pytorch_lightning/trainer/data_loading.py:432: UserWarning: The number of training samples (19) is smaller than the logging interval Trainer(log_every_n_steps=50). Set a lower value for log_every_n_steps if you want to see logs for the training epoch.\n",
      "  rank_zero_warn(\n"
     ]
    },
    {
     "name": "stdout",
     "output_type": "stream",
     "text": [
      "Epoch 999: 100%|██████████| 22/22 [00:00<00:00, 126.02it/s, loss=1.17, v_num=56]\n",
      "Финальные тестовые метрики: {'MSE': 2.5304809378328774, 'R2': 0.7818665351921001}\n",
      "С лучшим R2: {'MSE': 2.5304809378328774, 'R2': 0.7818665351921001}\n"
     ]
    }
   ],
   "source": [
    "# Добавим скрытых слоев\n",
    "\n",
    "model = GCN(8,8,32,1, n_inner_layers=2)\n",
    "training_module = train_network(model, data)\n",
    "print_best_metrics(training_module.validation_metrics)"
   ]
  },
  {
   "cell_type": "code",
   "execution_count": 12,
   "metadata": {},
   "outputs": [
    {
     "name": "stderr",
     "output_type": "stream",
     "text": [
      "GPU available: True, used: True\n",
      "TPU available: False, using: 0 TPU cores\n",
      "IPU available: False, using: 0 IPUs\n",
      "LOCAL_RANK: 0 - CUDA_VISIBLE_DEVICES: [0]\n",
      "\n",
      "  | Name  | Type | Params\n",
      "-------------------------------\n",
      "0 | model | GCN  | 1.7 K \n",
      "-------------------------------\n",
      "1.7 K     Trainable params\n",
      "0         Non-trainable params\n",
      "1.7 K     Total params\n",
      "0.007     Total estimated model params size (MB)\n"
     ]
    },
    {
     "name": "stdout",
     "output_type": "stream",
     "text": [
      "                                                              "
     ]
    },
    {
     "name": "stderr",
     "output_type": "stream",
     "text": [
      "/home/dumtrii/Documents/practos/spring3/bio/venv/lib/python3.9/site-packages/pytorch_lightning/trainer/data_loading.py:132: UserWarning: The dataloader, val_dataloader 0, does not have many workers which may be a bottleneck. Consider increasing the value of the `num_workers` argument` (try 12 which is the number of cpus on this machine) in the `DataLoader` init to improve performance.\n",
      "  rank_zero_warn(\n",
      "/home/dumtrii/Documents/practos/spring3/bio/venv/lib/python3.9/site-packages/pytorch_lightning/trainer/data_loading.py:132: UserWarning: The dataloader, train_dataloader, does not have many workers which may be a bottleneck. Consider increasing the value of the `num_workers` argument` (try 12 which is the number of cpus on this machine) in the `DataLoader` init to improve performance.\n",
      "  rank_zero_warn(\n",
      "/home/dumtrii/Documents/practos/spring3/bio/venv/lib/python3.9/site-packages/pytorch_lightning/trainer/data_loading.py:432: UserWarning: The number of training samples (19) is smaller than the logging interval Trainer(log_every_n_steps=50). Set a lower value for log_every_n_steps if you want to see logs for the training epoch.\n",
      "  rank_zero_warn(\n"
     ]
    },
    {
     "name": "stdout",
     "output_type": "stream",
     "text": [
      "Epoch 999: 100%|██████████| 22/22 [00:00<00:00, 158.96it/s, loss=1.47, v_num=57]\n",
      "Финальные тестовые метрики: {'MSE': 1.469142256950387, 'R2': 0.9074654479203478}\n",
      "С лучшим R2: {'MSE': 1.469142256950387, 'R2': 0.9074654479203478}\n"
     ]
    }
   ],
   "source": [
    "# Меньше скрытый слой\n",
    "\n",
    "model = GCN(8,8,8,1)\n",
    "training_module = train_network(model, data)\n",
    "print_best_metrics(training_module.validation_metrics)"
   ]
  },
  {
   "cell_type": "code",
   "execution_count": 13,
   "metadata": {},
   "outputs": [
    {
     "name": "stderr",
     "output_type": "stream",
     "text": [
      "GPU available: True, used: True\n",
      "TPU available: False, using: 0 TPU cores\n",
      "IPU available: False, using: 0 IPUs\n",
      "LOCAL_RANK: 0 - CUDA_VISIBLE_DEVICES: [0]\n",
      "\n",
      "  | Name  | Type | Params\n",
      "-------------------------------\n",
      "0 | model | GCN  | 6.9 K \n",
      "-------------------------------\n",
      "6.9 K     Trainable params\n",
      "0         Non-trainable params\n",
      "6.9 K     Total params\n",
      "0.028     Total estimated model params size (MB)\n"
     ]
    },
    {
     "name": "stdout",
     "output_type": "stream",
     "text": [
      "                                                              "
     ]
    },
    {
     "name": "stderr",
     "output_type": "stream",
     "text": [
      "/home/dumtrii/Documents/practos/spring3/bio/venv/lib/python3.9/site-packages/pytorch_lightning/trainer/data_loading.py:132: UserWarning: The dataloader, val_dataloader 0, does not have many workers which may be a bottleneck. Consider increasing the value of the `num_workers` argument` (try 12 which is the number of cpus on this machine) in the `DataLoader` init to improve performance.\n",
      "  rank_zero_warn(\n",
      "/home/dumtrii/Documents/practos/spring3/bio/venv/lib/python3.9/site-packages/pytorch_lightning/trainer/data_loading.py:132: UserWarning: The dataloader, train_dataloader, does not have many workers which may be a bottleneck. Consider increasing the value of the `num_workers` argument` (try 12 which is the number of cpus on this machine) in the `DataLoader` init to improve performance.\n",
      "  rank_zero_warn(\n",
      "/home/dumtrii/Documents/practos/spring3/bio/venv/lib/python3.9/site-packages/pytorch_lightning/trainer/data_loading.py:432: UserWarning: The number of training samples (19) is smaller than the logging interval Trainer(log_every_n_steps=50). Set a lower value for log_every_n_steps if you want to see logs for the training epoch.\n",
      "  rank_zero_warn(\n"
     ]
    },
    {
     "name": "stdout",
     "output_type": "stream",
     "text": [
      "Epoch 999: 100%|██████████| 22/22 [00:00<00:00, 161.28it/s, loss=1.34, v_num=58]\n",
      "Финальные тестовые метрики: {'MSE': 2.677706746611904, 'R2': 0.7988261236321198}\n",
      "С лучшим R2: {'MSE': 2.677706746611904, 'R2': 0.7988261236321198}\n"
     ]
    }
   ],
   "source": [
    "# Больше эмбеддинги\n",
    "\n",
    "model = GCN(16,16,16,1)\n",
    "training_module = train_network(model, data)\n",
    "print_best_metrics(training_module.validation_metrics)"
   ]
  },
  {
   "cell_type": "code",
   "execution_count": 14,
   "metadata": {},
   "outputs": [
    {
     "name": "stderr",
     "output_type": "stream",
     "text": [
      "GPU available: True, used: True\n",
      "TPU available: False, using: 0 TPU cores\n",
      "IPU available: False, using: 0 IPUs\n",
      "LOCAL_RANK: 0 - CUDA_VISIBLE_DEVICES: [0]\n",
      "\n",
      "  | Name  | Type | Params\n",
      "-------------------------------\n",
      "0 | model | GCN  | 989   \n",
      "-------------------------------\n",
      "989       Trainable params\n",
      "0         Non-trainable params\n",
      "989       Total params\n",
      "0.004     Total estimated model params size (MB)\n"
     ]
    },
    {
     "name": "stdout",
     "output_type": "stream",
     "text": []
    },
    {
     "name": "stderr",
     "output_type": "stream",
     "text": [
      "/home/dumtrii/Documents/practos/spring3/bio/venv/lib/python3.9/site-packages/pytorch_lightning/trainer/data_loading.py:132: UserWarning: The dataloader, val_dataloader 0, does not have many workers which may be a bottleneck. Consider increasing the value of the `num_workers` argument` (try 12 which is the number of cpus on this machine) in the `DataLoader` init to improve performance.\n",
      "  rank_zero_warn(\n",
      "/home/dumtrii/Documents/practos/spring3/bio/venv/lib/python3.9/site-packages/pytorch_lightning/trainer/data_loading.py:132: UserWarning: The dataloader, train_dataloader, does not have many workers which may be a bottleneck. Consider increasing the value of the `num_workers` argument` (try 12 which is the number of cpus on this machine) in the `DataLoader` init to improve performance.\n",
      "  rank_zero_warn(\n",
      "/home/dumtrii/Documents/practos/spring3/bio/venv/lib/python3.9/site-packages/pytorch_lightning/trainer/data_loading.py:432: UserWarning: The number of training samples (19) is smaller than the logging interval Trainer(log_every_n_steps=50). Set a lower value for log_every_n_steps if you want to see logs for the training epoch.\n",
      "  rank_zero_warn(\n"
     ]
    },
    {
     "name": "stdout",
     "output_type": "stream",
     "text": [
      "Epoch 999: 100%|██████████| 22/22 [00:00<00:00, 163.37it/s, loss=1.37, v_num=59]\n",
      "Финальные тестовые метрики: {'MSE': 2.451496706301103, 'R2': 0.8538206636592992}\n",
      "С лучшим R2: {'MSE': 2.451496706301103, 'R2': 0.8538206636592992}\n"
     ]
    }
   ],
   "source": [
    "# Меньше эмбеддинги\n",
    "\n",
    "model = GCN(4,4,16,1)\n",
    "training_module = train_network(model, data)\n",
    "print_best_metrics(training_module.validation_metrics)"
   ]
  },
  {
   "cell_type": "code",
   "execution_count": 15,
   "metadata": {},
   "outputs": [
    {
     "name": "stderr",
     "output_type": "stream",
     "text": [
      "GPU available: True, used: True\n",
      "TPU available: False, using: 0 TPU cores\n",
      "IPU available: False, using: 0 IPUs\n",
      "LOCAL_RANK: 0 - CUDA_VISIBLE_DEVICES: [0]\n",
      "\n",
      "  | Name  | Type | Params\n",
      "-------------------------------\n",
      "0 | model | GCN  | 11.8 K\n",
      "-------------------------------\n",
      "11.8 K    Trainable params\n",
      "0         Non-trainable params\n",
      "11.8 K    Total params\n",
      "0.047     Total estimated model params size (MB)\n"
     ]
    },
    {
     "name": "stdout",
     "output_type": "stream",
     "text": [
      "                                                              "
     ]
    },
    {
     "name": "stderr",
     "output_type": "stream",
     "text": [
      "/home/dumtrii/Documents/practos/spring3/bio/venv/lib/python3.9/site-packages/pytorch_lightning/trainer/data_loading.py:132: UserWarning: The dataloader, val_dataloader 0, does not have many workers which may be a bottleneck. Consider increasing the value of the `num_workers` argument` (try 12 which is the number of cpus on this machine) in the `DataLoader` init to improve performance.\n",
      "  rank_zero_warn(\n",
      "/home/dumtrii/Documents/practos/spring3/bio/venv/lib/python3.9/site-packages/pytorch_lightning/trainer/data_loading.py:132: UserWarning: The dataloader, train_dataloader, does not have many workers which may be a bottleneck. Consider increasing the value of the `num_workers` argument` (try 12 which is the number of cpus on this machine) in the `DataLoader` init to improve performance.\n",
      "  rank_zero_warn(\n",
      "/home/dumtrii/Documents/practos/spring3/bio/venv/lib/python3.9/site-packages/pytorch_lightning/trainer/data_loading.py:432: UserWarning: The number of training samples (19) is smaller than the logging interval Trainer(log_every_n_steps=50). Set a lower value for log_every_n_steps if you want to see logs for the training epoch.\n",
      "  rank_zero_warn(\n"
     ]
    },
    {
     "name": "stdout",
     "output_type": "stream",
     "text": [
      "Epoch 999: 100%|██████████| 22/22 [00:00<00:00, 167.75it/s, loss=1.41, v_num=60]\n",
      "Финальные тестовые метрики: {'MSE': 2.9798934504358323, 'R2': 0.8608372671475074}\n",
      "С лучшим R2: {'MSE': 2.9798934504358323, 'R2': 0.8608372671475074}\n"
     ]
    }
   ],
   "source": [
    "# Больше всего\n",
    "\n",
    "model = GCN(16,16,32,1)\n",
    "training_module = train_network(model, data)\n",
    "print_best_metrics(training_module.validation_metrics)"
   ]
  },
  {
   "cell_type": "code",
   "execution_count": 16,
   "metadata": {},
   "outputs": [
    {
     "name": "stderr",
     "output_type": "stream",
     "text": [
      "GPU available: True, used: True\n",
      "TPU available: False, using: 0 TPU cores\n",
      "IPU available: False, using: 0 IPUs\n",
      "LOCAL_RANK: 0 - CUDA_VISIBLE_DEVICES: [0]\n",
      "\n",
      "  | Name  | Type | Params\n",
      "-------------------------------\n",
      "0 | model | GCN  | 3.0 K \n",
      "-------------------------------\n",
      "3.0 K     Trainable params\n",
      "0         Non-trainable params\n",
      "3.0 K     Total params\n",
      "0.012     Total estimated model params size (MB)\n"
     ]
    },
    {
     "name": "stdout",
     "output_type": "stream",
     "text": [
      "                                                              "
     ]
    },
    {
     "name": "stderr",
     "output_type": "stream",
     "text": [
      "/home/dumtrii/Documents/practos/spring3/bio/venv/lib/python3.9/site-packages/pytorch_lightning/trainer/data_loading.py:132: UserWarning: The dataloader, val_dataloader 0, does not have many workers which may be a bottleneck. Consider increasing the value of the `num_workers` argument` (try 12 which is the number of cpus on this machine) in the `DataLoader` init to improve performance.\n",
      "  rank_zero_warn(\n",
      "/home/dumtrii/Documents/practos/spring3/bio/venv/lib/python3.9/site-packages/pytorch_lightning/trainer/data_loading.py:132: UserWarning: The dataloader, train_dataloader, does not have many workers which may be a bottleneck. Consider increasing the value of the `num_workers` argument` (try 12 which is the number of cpus on this machine) in the `DataLoader` init to improve performance.\n",
      "  rank_zero_warn(\n",
      "/home/dumtrii/Documents/practos/spring3/bio/venv/lib/python3.9/site-packages/pytorch_lightning/trainer/data_loading.py:432: UserWarning: The number of training samples (19) is smaller than the logging interval Trainer(log_every_n_steps=50). Set a lower value for log_every_n_steps if you want to see logs for the training epoch.\n",
      "  rank_zero_warn(\n"
     ]
    },
    {
     "name": "stdout",
     "output_type": "stream",
     "text": [
      "Epoch 999: 100%|██████████| 22/22 [00:00<00:00, 123.15it/s, loss=0.596, v_num=61]\n",
      "Финальные тестовые метрики: {'MSE': 3.478739736771394, 'R2': 0.7354332295126922}\n",
      "С лучшим R2: {'MSE': 3.478739736771394, 'R2': 0.7354332295126922}\n"
     ]
    }
   ],
   "source": [
    "model = GCN(8, 8, 8, 1, n_inner_layers=2)\n",
    "training_module = train_network(model, data)\n",
    "print_best_metrics(training_module.validation_metrics)"
   ]
  },
  {
   "cell_type": "markdown",
   "metadata": {},
   "source": [
    "Будем считать, что победила эта конфигурация, хотя от запуска к запуску результат немного менялся. Еще надо попробовать разные параметры обучения, дропаут и прочее, но, наверное, этого пока хватит. \n",
    "\n",
    "\n",
    "Получается: MSE: 1.4961933869588668, R2: 0.9161689502666052."
   ]
  },
  {
   "cell_type": "code",
   "execution_count": null,
   "metadata": {},
   "outputs": [],
   "source": [
    "GCN(8,8,16,1, n_inner_layers=2)"
   ]
  }
 ],
 "metadata": {
  "interpreter": {
   "hash": "7d86259fa544fde3f3e9e5325f4a281a95c8cd17a4b43c1530672bf0a7a0e7b9"
  },
  "kernelspec": {
   "display_name": "Python 3.9.10 64-bit ('venv': venv)",
   "language": "python",
   "name": "python3"
  },
  "language_info": {
   "codemirror_mode": {
    "name": "ipython",
    "version": 3
   },
   "file_extension": ".py",
   "mimetype": "text/x-python",
   "name": "python",
   "nbconvert_exporter": "python",
   "pygments_lexer": "ipython3",
   "version": "3.9.10"
  },
  "orig_nbformat": 4
 },
 "nbformat": 4,
 "nbformat_minor": 2
}
