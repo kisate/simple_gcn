{
 "cells": [
  {
   "cell_type": "code",
   "execution_count": 1,
   "metadata": {},
   "outputs": [],
   "source": [
    "import numpy as np\n",
    "import pandas as pd\n",
    "import matplotlib.pyplot as plt\n",
    "from rdkit import Chem, DataStructs\n",
    "from rdkit.Chem import PandasTools, AllChem\n",
    "from sklearn.preprocessing import StandardScaler"
   ]
  },
  {
   "cell_type": "markdown",
   "metadata": {},
   "source": [
    "Загрузим данные"
   ]
  },
  {
   "cell_type": "code",
   "execution_count": 2,
   "metadata": {},
   "outputs": [
    {
     "data": {
      "text/html": [
       "<div>\n",
       "<style scoped>\n",
       "    .dataframe tbody tr th:only-of-type {\n",
       "        vertical-align: middle;\n",
       "    }\n",
       "\n",
       "    .dataframe tbody tr th {\n",
       "        vertical-align: top;\n",
       "    }\n",
       "\n",
       "    .dataframe thead th {\n",
       "        text-align: right;\n",
       "    }\n",
       "</style>\n",
       "<table border=\"1\" class=\"dataframe\">\n",
       "  <thead>\n",
       "    <tr style=\"text-align: right;\">\n",
       "      <th></th>\n",
       "      <th>iupac</th>\n",
       "      <th>smiles</th>\n",
       "      <th>expt</th>\n",
       "      <th>calc</th>\n",
       "    </tr>\n",
       "  </thead>\n",
       "  <tbody>\n",
       "    <tr>\n",
       "      <th>0</th>\n",
       "      <td>4-methoxy-N,N-dimethyl-benzamide</td>\n",
       "      <td>CN(C)C(=O)c1ccc(cc1)OC</td>\n",
       "      <td>-11.01</td>\n",
       "      <td>-9.625</td>\n",
       "    </tr>\n",
       "    <tr>\n",
       "      <th>1</th>\n",
       "      <td>methanesulfonyl chloride</td>\n",
       "      <td>CS(=O)(=O)Cl</td>\n",
       "      <td>-4.87</td>\n",
       "      <td>-6.219</td>\n",
       "    </tr>\n",
       "    <tr>\n",
       "      <th>2</th>\n",
       "      <td>3-methylbut-1-ene</td>\n",
       "      <td>CC(C)C=C</td>\n",
       "      <td>1.83</td>\n",
       "      <td>2.452</td>\n",
       "    </tr>\n",
       "    <tr>\n",
       "      <th>3</th>\n",
       "      <td>2-ethylpyrazine</td>\n",
       "      <td>CCc1cnccn1</td>\n",
       "      <td>-5.45</td>\n",
       "      <td>-5.809</td>\n",
       "    </tr>\n",
       "    <tr>\n",
       "      <th>4</th>\n",
       "      <td>heptan-1-ol</td>\n",
       "      <td>CCCCCCCO</td>\n",
       "      <td>-4.21</td>\n",
       "      <td>-2.917</td>\n",
       "    </tr>\n",
       "  </tbody>\n",
       "</table>\n",
       "</div>"
      ],
      "text/plain": [
       "                              iupac                  smiles   expt   calc\n",
       "0  4-methoxy-N,N-dimethyl-benzamide  CN(C)C(=O)c1ccc(cc1)OC -11.01 -9.625\n",
       "1          methanesulfonyl chloride            CS(=O)(=O)Cl  -4.87 -6.219\n",
       "2                 3-methylbut-1-ene                CC(C)C=C   1.83  2.452\n",
       "3                   2-ethylpyrazine              CCc1cnccn1  -5.45 -5.809\n",
       "4                       heptan-1-ol                CCCCCCCO  -4.21 -2.917"
      ]
     },
     "execution_count": 2,
     "metadata": {},
     "output_type": "execute_result"
    }
   ],
   "source": [
    "data = pd.read_csv(\"SAMPL.csv\")\n",
    "data.head()"
   ]
  },
  {
   "cell_type": "markdown",
   "metadata": {},
   "source": [
    "Прочитаем SMILES"
   ]
  },
  {
   "cell_type": "code",
   "execution_count": 3,
   "metadata": {},
   "outputs": [
    {
     "data": {
      "text/html": [
       "<div>\n",
       "<style scoped>\n",
       "    .dataframe tbody tr th:only-of-type {\n",
       "        vertical-align: middle;\n",
       "    }\n",
       "\n",
       "    .dataframe tbody tr th {\n",
       "        vertical-align: top;\n",
       "    }\n",
       "\n",
       "    .dataframe thead th {\n",
       "        text-align: right;\n",
       "    }\n",
       "</style>\n",
       "<table border=\"1\" class=\"dataframe\">\n",
       "  <thead>\n",
       "    <tr style=\"text-align: right;\">\n",
       "      <th></th>\n",
       "      <th>smiles</th>\n",
       "      <th>Molecule</th>\n",
       "    </tr>\n",
       "  </thead>\n",
       "  <tbody>\n",
       "    <tr>\n",
       "      <th>0</th>\n",
       "      <td>CN(C)C(=O)c1ccc(cc1)OC</td>\n",
       "      <td><img data-content=\"rdkit/molecule\" src=\"data:image/png;base64,iVBORw0KGgoAAAANSUhEUgAAAMgAAADICAIAAAAiOjnJAAAABmJLR0QA/wD/AP+gvaeTAAAU00lEQVR4nO3de1QU1x0H8O/s8nDBFXxQHmIUAVF8AwrKxgeiqEGNMcY0LacmRmM1Ym2TYHMSaTVWT3OSokdM6WkNaNGGY46CgBESURFoFcUYNK0pBlGCvERUFpHdvf1jzLo85Dl3Z7S/z8lfl2XuXfJ17tyZe+8IjDEQIjWV3A0gTycKFuGCgkW4oGARLihYhAsKFuGCgkW4oGARLihYhAsKFuGCgkW4oGARLihYhAsKFuGCgkW4oGARLihYhAsKFuGCgkW4oGARLihYhAsKFuGCgkW4oGARLihYhAsKFuGCgkW4oGARLihYhAsKFuGCgkW4oGARLihYhAsKFuGCgkW4oGARLihYhAsKFuGCgkW4oGARLihYhAsKFuGCgkW4oGARLihYhAsKFuGCgkW4oGARLihYhAsKFuGCgkW4oGARLihYhAsKFuGCgkW4oGARLihYhAsKFuFCKcEKDg5+6aWXqqur5W4IkYbAGJO7Dfj222/9/f1dXFwqKirUarXczSESUMQZ69ChQwAiIyMpVU8NRQQrNTUVwPPPPy93Q4hk5O8Kr1+/PnToUAcHh+rqao1GI29jiFTkP2OlpaUxxubOnUupeprIH6zDhw8DWLRokdwNIVKSuSusq6tzdXUVBKGystLZ2VnGlhBp2chbfUZGRnNzc3h4+FOcqsbGxsLCwoKCgvz8/Nu3b69YsWLJkiUODg5yt4svmYMl9oNP2XiQMXb58uW8vLzTp0/n5eVdvXrV/CNBEE6ePHngwIHU1FRbW1sZG8mbnF1hY2Oji4uLXq+/fv364MGD5WqGJJqbm8+fP19QUCCemW7cuGH50xEjRoSEhEyZMsXb23vlypXXrl1btGjRwYMHbWxk/ofNj5xfLDe3buzYuSpV1ROaqkuXLp07d048M/3nP/8xGo3mH7m4uMyYMSM0NDQwMHDChAl9+/Y1/yg7O1un06Wmpr7++uuffvqpIAhytJ0/Jp+VKxnANm+WsQndo9frs7OzY2NjIyMj3dzcLP+Mtra2oaGh0dHRKSkp5eXlHR/nzJkzYtR++9vfWqfl1idbV2g0wsMDVVUoLsbo0bI0oUtKS0tPnTolnpm+/vprg8Fg/tGgQYNmzpzZ7mmpU8ePH58/f35TU9OHH3741ltvcWi43ORK9KlTDGAjRshVf+f+9Kc/jRw5slVX5evrGxUVtXv37gsXLhgMht4c/9ChQ2q1WhCEv/3tb1K1WTlkC9ZvfsMA9vbbctXfiffff3/SpEkABg0aFBkZuX379tzc3Lt37/bmmAaD4fTp05Yln3zyCQC1Wv3555/3rr2KI1uwvL0ZwFr+nZXCaDS6uroCSElJaW5uluSYBoNh6dKltra2R44csSzfvHkzAI1Gc/LkSUkqUgh5gnXxIgOYmxszGmWpvxN5eXkAhg8fLu1h3333XQB2dnbHjh2zLN+wYQOAfv36nT9/XtoaZSRPsDZvZgBbuVKWyjv39ttvA/j1r38t7WFNJtOqVasAaLXawsJCy/Lly5cDcHFx+fe//y1tpXKRJ1iBgQxg6emyVN45Hx8fAKdOnZL8yEaj8aWXXhIv3b799ltz+YMHD+bPny+eJn/44QfJ67U+GYJ17RoTBKbVsvv3rV9554qLiwG4ubkZ+fTTTU1NERERAIYMGVJWVmYu1+v1zz77LIAxY8bU1tbyqLqFK1fY3LnMwYFpNMzfn6WkSHt4GYK1cycD2NKl1q+5Sz744AMAK1asMJd89tlnM2fOPHTokFRVNDQ0TJ06FcDo0aMtM3T79u0JEyYACAkJuXfvnlTVtePuXTZsGHv3XdbYyIxGlpbGtFp2/LiENcgQrNmzGcD27rV+zV0SFBQEwHLstmTJEgC7du2SsJaamhp/f38AwcHBlhkqLy/38vIC8Nxzzz148EDCGltISmKjRjGT6VHJxo1s4UIJa7BSsBoamPke0M2bLD6eXb9unZq7p6ysTBAErVZ7/8d+uqGhwcHBQRCEGzduSFvXjRs3hg0bBiA8PLypqclc/t///ld8XvTKK69w6o7ZO++w115rUZKZyby8JKzBSjNIN26Eqyu+/x4AXF2hUuHNN61Tc/ekpqYyxiIiIuzt7cWSL7/8Uq/XBwUFSf6kfPDgwdnZ2a6url9++eWrr75qMpnEcm9v76ysrP79++/fvz86OlqayoxGXLyIhAQsX44//xl6PVpNBNdooNdLUxcAa05N1mqh/GdibeeHcV1B5OPjk56ertVq9+/fv27dOnP52LFjMzIyHBwc4uPjt27d2sOjl5Zi716sX4+gIGg0GD8eq1cjKQmHDsHLCyUlLT5cUgJv7158lTYkPPt1YN06tnEj8/ZmGRmMMfbJJ2zRIuvU3A21tbU2NjZ2dna3b98WS5qbmwcOHAjg0qVL/Oo9fvx4nz59AGzdutWyPC0tTZywtWPHjq4cx2g03rt0iSUksOXL2ciRTBAY8Oi/n/yELVzItm1jeXns8mVmb88uXnz4m3o9Cwhg27dL+KWsF6zYWJaWxry8WEODQoO1d+9eALNnzzaXnDhxAoCfnx/vqg8fPmxjYyMIQkJCgmX5vn37BEFQqVSfffZZu79YXV2dkpISHR0dGBhoa2ub9Oyzj5Kk0bDw8Id/97b3xnbuZM7O7NVXWXQ08/Nj8+czi+u83uMSLKORFRayuDgWFcWGD2dvvPEwWIyxyEj23nsKDdYLL7wAID4+3lwiPmyJiYmxQu1JSUlihlJa3lLauXMnADs7uy+++EIsKS0tTU5OfvPNNydOnNhq7XhUUBBbsIBt3cpyclinNyyuXmWffsoSEh49sr1/X6rhumTBampiBQXs44/ZkiXM3b3FOXjChEfBKilh/fuzd95RXLDMoz/zND2TySSO2vLz863Thm3btqG9h4nr168H4OjoGBER0WoMoVarx48f/8tf/nLv3r1XrlzpVfUmE5s/nwHsj3/s1XEYY70MVmVlZXr6/XfeYTod69OnRZicnFhEBIuNZUePsrq6R8FijG3ezBwcFBcs8bJ98uTJ5pKioiIA7u7uvMb87Vm7di0ADw+PxsZGc6HJZJo3b56YcgBeXl5RUVFxcXGFhYVSTb546MABplIxgHXtqq4D3Zvz3tjYKE7xPnfu3Llz5yoqKqZOLc3PHwrA3h6hoQgMhE6H0FB4eDz2IDExOHAAAJqaUFMDhcx3bzv6M6+kVamsN3beuXOnyWSKiooSL+dF4q210tLSn/3sZ5s2bRoxYgSv6l9+GXV1WLMGGzbA3R1Ll/b8UJ1Gr7KyMjU1dePGjdOnT3d0dLT8XScnpzfeyDSfljpQVsYsJ4LfuMEuXGAzZzIfH3bzZi//bUjAPPq7fPmyuXD8+PEAjh49KmPDRI2NjX379hUEobS01Br1/e53DGB2dqxlj9wtjw3WvXv3fv7zn3u3vLehUqn8/f1fe+21v/71r8XFxb3pI/R6Nm0aA9jo0cwKj1w7lpOTA2DkyJHmkpKSEgDOzs4cn6t0WUZGBoCJEydar8oNGxjAtFpmMb2nWx7bFTo6Oubk5JSXl7u6uk6bNk1cMhAQECDVEl6NBkeOYMYMFBVh/nx89RVang2tqm0/KJbMmzdPCctKZdjm6aOPUFeHxETMm4fcXPj5dfsIHYQuOzu7l6elTlVWshEjGMDCw6W9jdINJpNp6NChAAoKCsyF06ZNA/CPf/xDnjZZMBgM4jzpi+b7mdbx4MHDQaKXVzu3wToj57pCUUkJc3NjAHvlFXlmKp8/fx6Ap6en6cen/VVVVWq1uk+fPr1cPSGJ06dPA/D19ZWh7jt3WFAQAxpCQ+/U13frV+Xfxmj4cGRloX9/7N8PqR65dovY0SxYsMC80uvIkSNGozEsLKxbSwU5EQenCxculKFurRaZmVWTJk2rrZ0TEdHQ0NCN3+WU9e46ceLhnbA//MHaVY8bNw6A5T3JBQsWAGj1dEUu4vgpNzdXrgaUlpZ6enoCWLx4cdeXUiolWIyxtDRmY8MEgf3lL9arVBz99e/f3zz6u3Pnjr29vVqtvqmAGyHffPMNeM6T7qIeTBGTvys0W7AAO3aAMezadTYz86h1KhU7GsvRX3V1dXBwcEhIiHjJLC+xeZGRkda8SduWt7f3sWPHnJ2dW03v6QjvsHfXRx995+jYV6PRWOfkL65fSGmzlEDiRyU9FRgYCCBdGeuZcnJyxOcBW7Zs6fTDigsW+3FZn1arPXv2LKcqxMcJv/rVr1QqlZ2dXX03hzzWce3atVbzpGVnniIWFxfX8SeVGCyTyfT6668DGDRokOUzlt5obGzMzc3dvn17ZGSku7u7+YQ9cOBAQRD27dsnSS3S2rFjB4ClClvPZJ4i1vFNPiUGizFmMBhefPFFAIMHD+7xA7K6urrMzMxNmzaFh4drtVrLCwA7O7vg4OD169evXbtWEAS1Wt22N5RdWFgYgOTkZLkb0tqWLVsA9OnTJycn53GfUWiwGGNNTU1z5swB4Ovr28UBWlNTU25ublxc3NKlSy1PSwAEQfD391+1alVSUlJxcbHlsPlxs6DkVV1drVarLedJK0pMTIyPj09JScnjPqDcYDHG7ty5I169BgUF3blzp93PVFVViXNzQ0ND206+iIyMjI2Nzc7O7vh/j7j1WastFeSVmJgIICIiQu6GtM9oNFZVVXXwAUUHizFWXV09atQoADNnzhTnvhmNxsLCwri4uKioqOHDh3fxtNQxk8m0YsUKtNlSQUbiI+fdu3fL3ZAeUnqwsrOzExMTxX4tKCho0aJFrW4v2draTp48OTo6ev/+/b2ZrmQwGMQVz56enteuXZPwK/TAvXv3NBqNSqXqdDtTxVJ6sMQ9Dnbt2uXp6SnOvBNPS1FRUQkJCd06LXVKr9dPnz4dgL+/f01NjVSH7QHxPXshISEytqGXFB2s69evC4Lg6Oio1+vr6+uPHj2alJQ0Z86chIQEk+W+A9Kpr68PCAgAMHnyZBmnNvziF78AsG3bNrka0HuKDtbu3bsBLF682FySlpYGYNKkSfwqraqq8vPzAzBr1ixZ7kw2NzcPGDAAQG9X3chKQc8K22r7YjBxigvXV4W5uLgcPXrUw8Pjq6+++ulPf2r5WgBpNTc3nz17tqqqqlV5bm7urVu3Ro0a5evry6lqa5A72Y9169YtW1tbGxsb8w5Szc3NgwYNAucF76JvvvlGPG2sXr1awsMWFxcnJSWtWrXK399ffDbSdnckcSOQJ/3dAsoNVnJyMoCwsDBzycmTJ2GVBe+if/7zn+KNsVjzksjuMxgMRUVF8fHx7a5MGTNmzJ49eyw/bzKZnnnmGQD/+te/evsFZKXclwS17fWs0A9aCg4OPnz48HPPPff73//eyclJXG7fFd9//31ubm67L7N45plnpk+fHhgYqNPpxo0b13alRlFRUVlZmaenp7jL/BNM7mS3z7ySzvKWkrgUOC8vz5otSU5OVqlUgiAkJiY+7jP3799v9wk3ADs7u66/Y4cx9v777wNYs2aNpF9CBgoNlriSLiAgwFzy9ddfw+oL3kXx8fEAbG1tM8RNmNpYuXKlZZi0Wu2sWbPee++9jIyMrm9TW1JS8ve//13MZVZWlnTNl4dCu8K2G6CJ9wwXLlxo/bmUa9asqaio+OCDD1588cWsrCydTtfqA0FBQTk5OVOmTJkyZcrUqVPHjBnTahOYdtXW1ubn54tbFly8ePHu3bsAbGxsNm3aJN6nfbLJnex2mIzGoZ6eAC5cuGAunDhxIoDMzEy5WiVu+eLk5FRUVNTjg1y9ejU5OXndunVBQUGt3oLp7u6+ePHiDz/8UJmzDrtLicFiBQXGAQOKn3/eXCC+/bZfv34yzqU0Go3Lli0D4OHhcfXq1S7+Vk1NTVpaWkxMTGhoaKs5YRqNJjw8PDY2Ni0traKigmvjrU+RXeHnn6tu3RptMTi/eeKE74AB48PCzHvOWp9Kpdq3b199ff0XX3wxe/bs06dPt3oXpshkMhUVFYkb8rR6ITQALy8vnU6n0+lCQ0P9/Pye4lf3KvKMJb4ZzHIxxaxZTK2+rYBJnua9/8eNG1f34w47tbW1jzst2dvbh4aGxsTEpKWlPblTFXpAzpeNt6+4GGPHws0N5eUQr9NrauDmBrUa1dXo10/u9qG2tnbatGmXL18eP368Tqc7c+bMhQsXmpubzR/o16+f+GrxKVOmhISEODk5ydhauSjvVHz4MABERsI8+ktPh9GI2bOVkCoAAwcOTE9P1+l0er3efCdC3I1H7OM8Oth17v+GUoNluWVP2xK5eXl55efnl5aWHjt2TDwziQ8xiZnCusKyMgwbhr59UV0N8Tq9oQEuLmhqwg8/QAFLk0kXKWzaTGoqGMPcuTCP/rKy0NiI4GBK1ZNFYcF6EvpB0hVK6grNo7+qKogjKYMBrq64dQvffQcfH7nbR7pBSWeszEwYjZgxA+bx+alTuHUL/v6UqieOkoLl5oY5c7BkyaMS6gefWErqClthDEOGoLwcZ87gSZ/19v9HSfexjh/Hnj2orISzM5YtwwsvYM8eZGUhMFDulpFuU0ywDh7E6tXYsgUBAbhyBWvXorQUb72FOXPkbhnpCWV0hYxh6FBs3YqoqIclOTmIjERFhUIe45DuUkawbt6Euzvq61vEyMUFqamYOlW+ZpGeU8ao8OZN2Nu3Pjm5uKCiQqYGkd5SRrAGD0ZTE+rqWhTevIkhQ2RqEOktZQTLxQXe3jh48FFJdjaMRoweLV+bSK8oZlS4axdefhnV1QgIwHffYfNmfPyxnC8EI72jjIt30blzSExEZSX698eyZQgLk7tBpOeUFCzyFFHGNRZ56lCwCBcULMIFBYtwQcEiXFCwCBcULMIFBYtwQcEiXFCwCBcULMIFBYtwQcEiXFCwCBcULMIFBYtwQcEiXFCwCBcULMIFBYtwQcEiXFCwCBcULMIFBYtwQcEiXFCwCBcULMIFBYtwQcEiXFCwCBcULMIFBYtwQcEiXFCwCBcULMIFBYtwQcEiXFCwCBcULMIFBYtwQcEiXFCwCBcULMIFBYtwQcEiXFCwCBcULMIFBYtwQcEiXFCwCBcULMIFBYtwQcEiXFCwCBcULMIFBYtwQcEiXFCwCBf/A+8ci63dcXpCAAABEnpUWHRyZGtpdFBLTCByZGtpdCAyMDIxLjA5LjQAAHice79v7T0GIOBlQABeKG5gZGNIANKMzOwMGkCamRnGZ4PwWTggNBObA4TP5pABVseIxMAlA9cLNZObgZGBkQnIUGBm0WBiZlVgZctgYmNPYOfIYOLgTODkAlLcCtw8DFysCSKMbKxcnBzsbOLLQHrhDp92pu/Ast0sdiCO6Av7A85HXoLZq/WUDzgv/WgPYl988Hc/12XV/SD25ZXSB27zsR4AsT3/suxfYr9kH4jNunfCXk+VPrD6mLBN9k//bgezbylJOdj2rgKb+fDSL/vHE3rA5pw/9NeuPmsbmP3xcrnD9Z8aYPXnU+c4rCp7DDZTDADcBUddnB/54AAAAXR6VFh0TU9MIHJka2l0IDIwMjEuMDkuNAAAeJx9U0tOAzEM3c8pfIFG/iWOl/QjhBBTCQp3YM/9hd2qZCpFJJPIzrxx7Pc8C+R4P75+/8Df4OOyAOA/j7vDlyDi8gZpwP70/LLC4fK0v58czp/r5QNI8sGcj9iny/ntfkJwgJ0WbaymgIXYG3MYeB3jU4YVdlzce9U4LlpbtToBSkbkUtWNI4PSu/XaJkBNIBXvogHcYWlqVmmCrHDOkCrMcXdYaI4yy7JlTCyVXB3TEg5snyDthkTDZpkmEWqfhewBpCIu3CgMFVOZleOBixyxi1m8FhFCn+AIrwG9em2YBKB3stnNlOIE0wFkS6RyJZ5xThwMSenBOCWBrSG2achUR1MT5Z71qyq3WcjTenxolFvr7M/rcbROTh4NEg7IaIN0dYgdDtShKIXbhmzhgA1tNFYfCmgsH0RrLNoSqrkRbYijhPCGH7pusiFCE9e29W6rS//+U4W9/AIpUK/Qdh7YzQAAAMd6VFh0U01JTEVTIHJka2l0IDIwMjEuMDkuNAAAeJwdz02uwzAIBOCrdJlI1OJnACPrrbJ/PYSv0cOXZGd9GjNwfbbsvY/r+Puc/8d1Xufe8voeGHMmjN48AGg4LRsz1YR4RDCH0tIBnjZbzEy4aMmwMg2SAUuAVv/n5EhrEmHMh1wKdc825azbZNQ06G2BTJe2Hm+qoH50iu2hqunoRnh49lZvDIQim0QrVJ+Uo1K7so+YQavj5aFJ3QN10XvT8rZbuKYknd8fsCc3DXgMErYAAAAASUVORK5CYII=\" alt=\"Mol\"/></td>\n",
       "    </tr>\n",
       "  </tbody>\n",
       "</table>\n",
       "</div>"
      ],
      "text/plain": [
       "                   smiles                                           Molecule\n",
       "0  CN(C)C(=O)c1ccc(cc1)OC  <img data-content=\"rdkit/molecule\" src=\"data:i..."
      ]
     },
     "execution_count": 3,
     "metadata": {},
     "output_type": "execute_result"
    }
   ],
   "source": [
    "PandasTools.AddMoleculeColumnToFrame(data, \"smiles\", \"Molecule\")\n",
    "data[[\"smiles\", \"Molecule\"]].head(1)"
   ]
  },
  {
   "cell_type": "code",
   "execution_count": 4,
   "metadata": {},
   "outputs": [
    {
     "data": {
      "text/plain": [
       "Molecule    <img data-content=\"rdkit/molecule\" src=\"data:i...\n",
       "expt                                                   -11.01\n",
       "Name: 0, dtype: object"
      ]
     },
     "execution_count": 4,
     "metadata": {},
     "output_type": "execute_result"
    }
   ],
   "source": [
    "data[[\"Molecule\", \"expt\"]].iloc[0]"
   ]
  },
  {
   "cell_type": "markdown",
   "metadata": {},
   "source": [
    "Загрузим метод для перевода молекулы из rdkit в данные для pytorch-geometric."
   ]
  },
  {
   "cell_type": "code",
   "execution_count": 5,
   "metadata": {},
   "outputs": [],
   "source": [
    "import torch\n",
    "from torch_geometric.data import Data\n",
    "from rdkit.Chem import Mol\n",
    "from rdkit.Chem.rdmolops import GetAdjacencyMatrix\n",
    "from scipy.sparse import coo_matrix\n",
    "\n",
    "def rdkit_to_pyg(mol: Mol, expt: float) -> Data:\n",
    "    adj_mat = torch.tensor(GetAdjacencyMatrix(mol))\n",
    "    atoms = [atom.GetAtomicNum() for atom in mol.GetAtoms()]\n",
    "\n",
    "    # Connectivity list and edge features\n",
    "    edges = []\n",
    "    edge_types = []\n",
    "    for bond in mol.GetBonds():\n",
    "        begin_idx = bond.GetBeginAtomIdx()\n",
    "        end_idx = bond.GetEndAtomIdx()\n",
    "        bond_type = int(bond.GetBondType())\n",
    "        edges.extend([[begin_idx, end_idx], [end_idx, begin_idx]])\n",
    "        edge_types.extend([[bond_type], [bond_type]])\n",
    "\n",
    "    edge_index = torch.LongTensor(edges).t().contiguous()\n",
    "    edge_features = torch.LongTensor(edge_types)\n",
    "    node_features = torch.LongTensor(atoms).reshape(-1, 1)\n",
    "    target = torch.FloatTensor([[expt]])\n",
    "\n",
    "    return Data(x = node_features, edge_index=edge_index, edge_attr=edge_features, target=target)"
   ]
  },
  {
   "cell_type": "code",
   "execution_count": 6,
   "metadata": {},
   "outputs": [
    {
     "data": {
      "text/plain": [
       "Data(x=[13, 1], edge_index=[2, 26], edge_attr=[26, 1], target=[1, 1])"
      ]
     },
     "execution_count": 6,
     "metadata": {},
     "output_type": "execute_result"
    }
   ],
   "source": [
    "rdkit_to_pyg(*data[[\"Molecule\", \"expt\"]].iloc[0])\n"
   ]
  },
  {
   "cell_type": "code",
   "execution_count": 7,
   "metadata": {},
   "outputs": [],
   "source": [
    "from torch.utils.data import DataLoader, Dataset\n",
    "\n",
    "class SmilesDataset(Dataset):\n",
    "    \"\"\"SMILES dataset \"\"\"\n",
    "    def __init__(self, data: pd.DataFrame) -> None:\n",
    "        self.data = data\n",
    "    def __len__(self):\n",
    "        return len(self.data)\n",
    "    def __getitem__(self, index):\n",
    "        mol, expt = data[[\"Molecule\", \"expt\"]].iloc[index]\n",
    "        return rdkit_to_pyg(mol, expt)"
   ]
  },
  {
   "cell_type": "code",
   "execution_count": 8,
   "metadata": {},
   "outputs": [],
   "source": [
    "import torch.nn.functional as F\n",
    "from torch_geometric.nn import GCNConv\n",
    "\n",
    "class GCN(torch.nn.Module):\n",
    "    def __init__(self):\n",
    "        super().__init__()\n",
    "        self.conv1 = GCNConv(1, 16)\n",
    "        self.conv2 = GCNConv(16, 1)\n",
    "\n",
    "    def forward(self, data):\n",
    "        x, edge_index = data.x, data.edge_index\n",
    "\n",
    "        x = self.node_emb(x)\n",
    "\n",
    "        x = self.conv1(x, edge_index)\n",
    "        x = F.relu(x)\n",
    "        x = F.dropout(x, training=self.training)\n",
    "        x = self.conv2(x, edge_index)\n",
    "\n",
    "        return x"
   ]
  },
  {
   "cell_type": "code",
   "execution_count": 9,
   "metadata": {},
   "outputs": [
    {
     "ename": "SyntaxError",
     "evalue": "invalid syntax (3829085726.py, line 1)",
     "output_type": "error",
     "traceback": [
      "\u001b[0;36m  Input \u001b[0;32mIn [9]\u001b[0;36m\u001b[0m\n\u001b[0;31m    [m for data[[\"Molecule\", \"expt\"]]]\u001b[0m\n\u001b[0m                                     ^\u001b[0m\n\u001b[0;31mSyntaxError\u001b[0m\u001b[0;31m:\u001b[0m invalid syntax\n"
     ]
    }
   ],
   "source": [
    "[m for data[[\"Molecule\", \"expt\"]]]"
   ]
  },
  {
   "cell_type": "code",
   "execution_count": null,
   "metadata": {},
   "outputs": [
    {
     "ename": "RuntimeError",
     "evalue": "CUDA error: device-side assert triggered\nCUDA kernel errors might be asynchronously reported at some other API call,so the stacktrace below might be incorrect.\nFor debugging consider passing CUDA_LAUNCH_BLOCKING=1.",
     "output_type": "error",
     "traceback": [
      "\u001b[0;31m---------------------------------------------------------------------------\u001b[0m",
      "\u001b[0;31mRuntimeError\u001b[0m                              Traceback (most recent call last)",
      "Input \u001b[0;32mIn [43]\u001b[0m, in \u001b[0;36m<module>\u001b[0;34m\u001b[0m\n\u001b[1;32m      2\u001b[0m device \u001b[38;5;241m=\u001b[39m \u001b[38;5;124m\"\u001b[39m\u001b[38;5;124mcuda\u001b[39m\u001b[38;5;124m\"\u001b[39m\n\u001b[1;32m      3\u001b[0m loader \u001b[38;5;241m=\u001b[39m DataLoader([rdkit_to_pyg(mol, expt) \u001b[38;5;28;01mfor\u001b[39;00m mol, expt \u001b[38;5;129;01min\u001b[39;00m data[[\u001b[38;5;124m\"\u001b[39m\u001b[38;5;124mMolecule\u001b[39m\u001b[38;5;124m\"\u001b[39m, \u001b[38;5;124m\"\u001b[39m\u001b[38;5;124mexpt\u001b[39m\u001b[38;5;124m\"\u001b[39m]]\u001b[38;5;241m.\u001b[39mvalues], batch_size\u001b[38;5;241m=\u001b[39m\u001b[38;5;241m32\u001b[39m)\n\u001b[0;32m----> 4\u001b[0m model \u001b[38;5;241m=\u001b[39m \u001b[43mGCN\u001b[49m\u001b[43m(\u001b[49m\u001b[43m)\u001b[49m\u001b[38;5;241;43m.\u001b[39;49m\u001b[43mto\u001b[49m\u001b[43m(\u001b[49m\u001b[43mdevice\u001b[49m\u001b[43m)\u001b[49m\n\u001b[1;32m      5\u001b[0m optimizer \u001b[38;5;241m=\u001b[39m torch\u001b[38;5;241m.\u001b[39moptim\u001b[38;5;241m.\u001b[39mAdam(model\u001b[38;5;241m.\u001b[39mparameters(), lr\u001b[38;5;241m=\u001b[39m\u001b[38;5;241m0.01\u001b[39m, weight_decay\u001b[38;5;241m=\u001b[39m\u001b[38;5;241m5e-4\u001b[39m)\n\u001b[1;32m      7\u001b[0m model\u001b[38;5;241m.\u001b[39mtrain()\n",
      "File \u001b[0;32m~/Documents/practos/spring3/bio/venv/lib/python3.9/site-packages/torch/nn/modules/module.py:899\u001b[0m, in \u001b[0;36mModule.to\u001b[0;34m(self, *args, **kwargs)\u001b[0m\n\u001b[1;32m    895\u001b[0m         \u001b[38;5;28;01mreturn\u001b[39;00m t\u001b[38;5;241m.\u001b[39mto(device, dtype \u001b[38;5;28;01mif\u001b[39;00m t\u001b[38;5;241m.\u001b[39mis_floating_point() \u001b[38;5;129;01mor\u001b[39;00m t\u001b[38;5;241m.\u001b[39mis_complex() \u001b[38;5;28;01melse\u001b[39;00m \u001b[38;5;28;01mNone\u001b[39;00m,\n\u001b[1;32m    896\u001b[0m                     non_blocking, memory_format\u001b[38;5;241m=\u001b[39mconvert_to_format)\n\u001b[1;32m    897\u001b[0m     \u001b[38;5;28;01mreturn\u001b[39;00m t\u001b[38;5;241m.\u001b[39mto(device, dtype \u001b[38;5;28;01mif\u001b[39;00m t\u001b[38;5;241m.\u001b[39mis_floating_point() \u001b[38;5;129;01mor\u001b[39;00m t\u001b[38;5;241m.\u001b[39mis_complex() \u001b[38;5;28;01melse\u001b[39;00m \u001b[38;5;28;01mNone\u001b[39;00m, non_blocking)\n\u001b[0;32m--> 899\u001b[0m \u001b[38;5;28;01mreturn\u001b[39;00m \u001b[38;5;28;43mself\u001b[39;49m\u001b[38;5;241;43m.\u001b[39;49m\u001b[43m_apply\u001b[49m\u001b[43m(\u001b[49m\u001b[43mconvert\u001b[49m\u001b[43m)\u001b[49m\n",
      "File \u001b[0;32m~/Documents/practos/spring3/bio/venv/lib/python3.9/site-packages/torch/nn/modules/module.py:570\u001b[0m, in \u001b[0;36mModule._apply\u001b[0;34m(self, fn)\u001b[0m\n\u001b[1;32m    568\u001b[0m \u001b[38;5;28;01mdef\u001b[39;00m \u001b[38;5;21m_apply\u001b[39m(\u001b[38;5;28mself\u001b[39m, fn):\n\u001b[1;32m    569\u001b[0m     \u001b[38;5;28;01mfor\u001b[39;00m module \u001b[38;5;129;01min\u001b[39;00m \u001b[38;5;28mself\u001b[39m\u001b[38;5;241m.\u001b[39mchildren():\n\u001b[0;32m--> 570\u001b[0m         \u001b[43mmodule\u001b[49m\u001b[38;5;241;43m.\u001b[39;49m\u001b[43m_apply\u001b[49m\u001b[43m(\u001b[49m\u001b[43mfn\u001b[49m\u001b[43m)\u001b[49m\n\u001b[1;32m    572\u001b[0m     \u001b[38;5;28;01mdef\u001b[39;00m \u001b[38;5;21mcompute_should_use_set_data\u001b[39m(tensor, tensor_applied):\n\u001b[1;32m    573\u001b[0m         \u001b[38;5;28;01mif\u001b[39;00m torch\u001b[38;5;241m.\u001b[39m_has_compatible_shallow_copy_type(tensor, tensor_applied):\n\u001b[1;32m    574\u001b[0m             \u001b[38;5;66;03m# If the new tensor has compatible tensor type as the existing tensor,\u001b[39;00m\n\u001b[1;32m    575\u001b[0m             \u001b[38;5;66;03m# the current behavior is to change the tensor in-place using `.data =`,\u001b[39;00m\n\u001b[0;32m   (...)\u001b[0m\n\u001b[1;32m    580\u001b[0m             \u001b[38;5;66;03m# global flag to let the user control whether they want the future\u001b[39;00m\n\u001b[1;32m    581\u001b[0m             \u001b[38;5;66;03m# behavior of overwriting the existing tensor or not.\u001b[39;00m\n",
      "File \u001b[0;32m~/Documents/practos/spring3/bio/venv/lib/python3.9/site-packages/torch/nn/modules/module.py:570\u001b[0m, in \u001b[0;36mModule._apply\u001b[0;34m(self, fn)\u001b[0m\n\u001b[1;32m    568\u001b[0m \u001b[38;5;28;01mdef\u001b[39;00m \u001b[38;5;21m_apply\u001b[39m(\u001b[38;5;28mself\u001b[39m, fn):\n\u001b[1;32m    569\u001b[0m     \u001b[38;5;28;01mfor\u001b[39;00m module \u001b[38;5;129;01min\u001b[39;00m \u001b[38;5;28mself\u001b[39m\u001b[38;5;241m.\u001b[39mchildren():\n\u001b[0;32m--> 570\u001b[0m         \u001b[43mmodule\u001b[49m\u001b[38;5;241;43m.\u001b[39;49m\u001b[43m_apply\u001b[49m\u001b[43m(\u001b[49m\u001b[43mfn\u001b[49m\u001b[43m)\u001b[49m\n\u001b[1;32m    572\u001b[0m     \u001b[38;5;28;01mdef\u001b[39;00m \u001b[38;5;21mcompute_should_use_set_data\u001b[39m(tensor, tensor_applied):\n\u001b[1;32m    573\u001b[0m         \u001b[38;5;28;01mif\u001b[39;00m torch\u001b[38;5;241m.\u001b[39m_has_compatible_shallow_copy_type(tensor, tensor_applied):\n\u001b[1;32m    574\u001b[0m             \u001b[38;5;66;03m# If the new tensor has compatible tensor type as the existing tensor,\u001b[39;00m\n\u001b[1;32m    575\u001b[0m             \u001b[38;5;66;03m# the current behavior is to change the tensor in-place using `.data =`,\u001b[39;00m\n\u001b[0;32m   (...)\u001b[0m\n\u001b[1;32m    580\u001b[0m             \u001b[38;5;66;03m# global flag to let the user control whether they want the future\u001b[39;00m\n\u001b[1;32m    581\u001b[0m             \u001b[38;5;66;03m# behavior of overwriting the existing tensor or not.\u001b[39;00m\n",
      "File \u001b[0;32m~/Documents/practos/spring3/bio/venv/lib/python3.9/site-packages/torch/nn/modules/module.py:593\u001b[0m, in \u001b[0;36mModule._apply\u001b[0;34m(self, fn)\u001b[0m\n\u001b[1;32m    589\u001b[0m \u001b[38;5;66;03m# Tensors stored in modules are graph leaves, and we don't want to\u001b[39;00m\n\u001b[1;32m    590\u001b[0m \u001b[38;5;66;03m# track autograd history of `param_applied`, so we have to use\u001b[39;00m\n\u001b[1;32m    591\u001b[0m \u001b[38;5;66;03m# `with torch.no_grad():`\u001b[39;00m\n\u001b[1;32m    592\u001b[0m \u001b[38;5;28;01mwith\u001b[39;00m torch\u001b[38;5;241m.\u001b[39mno_grad():\n\u001b[0;32m--> 593\u001b[0m     param_applied \u001b[38;5;241m=\u001b[39m \u001b[43mfn\u001b[49m\u001b[43m(\u001b[49m\u001b[43mparam\u001b[49m\u001b[43m)\u001b[49m\n\u001b[1;32m    594\u001b[0m should_use_set_data \u001b[38;5;241m=\u001b[39m compute_should_use_set_data(param, param_applied)\n\u001b[1;32m    595\u001b[0m \u001b[38;5;28;01mif\u001b[39;00m should_use_set_data:\n",
      "File \u001b[0;32m~/Documents/practos/spring3/bio/venv/lib/python3.9/site-packages/torch/nn/modules/module.py:897\u001b[0m, in \u001b[0;36mModule.to.<locals>.convert\u001b[0;34m(t)\u001b[0m\n\u001b[1;32m    894\u001b[0m \u001b[38;5;28;01mif\u001b[39;00m convert_to_format \u001b[38;5;129;01mis\u001b[39;00m \u001b[38;5;129;01mnot\u001b[39;00m \u001b[38;5;28;01mNone\u001b[39;00m \u001b[38;5;129;01mand\u001b[39;00m t\u001b[38;5;241m.\u001b[39mdim() \u001b[38;5;129;01min\u001b[39;00m (\u001b[38;5;241m4\u001b[39m, \u001b[38;5;241m5\u001b[39m):\n\u001b[1;32m    895\u001b[0m     \u001b[38;5;28;01mreturn\u001b[39;00m t\u001b[38;5;241m.\u001b[39mto(device, dtype \u001b[38;5;28;01mif\u001b[39;00m t\u001b[38;5;241m.\u001b[39mis_floating_point() \u001b[38;5;129;01mor\u001b[39;00m t\u001b[38;5;241m.\u001b[39mis_complex() \u001b[38;5;28;01melse\u001b[39;00m \u001b[38;5;28;01mNone\u001b[39;00m,\n\u001b[1;32m    896\u001b[0m                 non_blocking, memory_format\u001b[38;5;241m=\u001b[39mconvert_to_format)\n\u001b[0;32m--> 897\u001b[0m \u001b[38;5;28;01mreturn\u001b[39;00m \u001b[43mt\u001b[49m\u001b[38;5;241;43m.\u001b[39;49m\u001b[43mto\u001b[49m\u001b[43m(\u001b[49m\u001b[43mdevice\u001b[49m\u001b[43m,\u001b[49m\u001b[43m \u001b[49m\u001b[43mdtype\u001b[49m\u001b[43m \u001b[49m\u001b[38;5;28;43;01mif\u001b[39;49;00m\u001b[43m \u001b[49m\u001b[43mt\u001b[49m\u001b[38;5;241;43m.\u001b[39;49m\u001b[43mis_floating_point\u001b[49m\u001b[43m(\u001b[49m\u001b[43m)\u001b[49m\u001b[43m \u001b[49m\u001b[38;5;129;43;01mor\u001b[39;49;00m\u001b[43m \u001b[49m\u001b[43mt\u001b[49m\u001b[38;5;241;43m.\u001b[39;49m\u001b[43mis_complex\u001b[49m\u001b[43m(\u001b[49m\u001b[43m)\u001b[49m\u001b[43m \u001b[49m\u001b[38;5;28;43;01melse\u001b[39;49;00m\u001b[43m \u001b[49m\u001b[38;5;28;43;01mNone\u001b[39;49;00m\u001b[43m,\u001b[49m\u001b[43m \u001b[49m\u001b[43mnon_blocking\u001b[49m\u001b[43m)\u001b[49m\n",
      "\u001b[0;31mRuntimeError\u001b[0m: CUDA error: device-side assert triggered\nCUDA kernel errors might be asynchronously reported at some other API call,so the stacktrace below might be incorrect.\nFor debugging consider passing CUDA_LAUNCH_BLOCKING=1."
     ]
    }
   ],
   "source": [
    "from torch_geometric.loader import DataLoader\n",
    "device = \"cuda\"\n",
    "loader = DataLoader([rdkit_to_pyg(mol, expt) for mol, expt in data[[\"Molecule\", \"expt\"]].values], batch_size=32)\n",
    "model = GCN().to(device)\n",
    "optimizer = torch.optim.Adam(model.parameters(), lr=0.01, weight_decay=5e-4)\n",
    "\n",
    "model.train()\n",
    "for epoch in range(10):\n",
    "    for batch in loader:\n",
    "        batch = batch.to(device)\n",
    "        optimizer.zero_grad()\n",
    "        out = model(batch)\n",
    "        loss = F.mse_loss(out, batch.y)\n",
    "        loss.backward()\n",
    "        print(loss.item())\n",
    "        print(batch.num_nodes)\n",
    "        optimizer.step()"
   ]
  }
 ],
 "metadata": {
  "interpreter": {
   "hash": "7d86259fa544fde3f3e9e5325f4a281a95c8cd17a4b43c1530672bf0a7a0e7b9"
  },
  "kernelspec": {
   "display_name": "Python 3.9.10 64-bit ('venv': venv)",
   "language": "python",
   "name": "python3"
  },
  "language_info": {
   "codemirror_mode": {
    "name": "ipython",
    "version": 3
   },
   "file_extension": ".py",
   "mimetype": "text/x-python",
   "name": "python",
   "nbconvert_exporter": "python",
   "pygments_lexer": "ipython3",
   "version": "3.9.10"
  },
  "orig_nbformat": 4
 },
 "nbformat": 4,
 "nbformat_minor": 2
}
